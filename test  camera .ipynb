{
 "cells": [
  {
   "cell_type": "code",
   "execution_count": 1,
   "metadata": {},
   "outputs": [],
   "source": [
    "import numpy as np\n",
    "from keras.models import load_model\n",
    "import cv2\n",
    "from keras.preprocessing import image\n",
    "from keras.preprocessing.image import img_to_array\n",
    "import time\n",
    "import threading as th"
   ]
  },
  {
   "cell_type": "code",
   "execution_count": 2,
   "metadata": {},
   "outputs": [],
   "source": [
    "face_classifier = cv2.CascadeClassifier(r'haarcascade_frontalface_alt.xml')\n",
    "# face_classifier = cv2.CascadeClassifier(r'haarcascade_frontalface_default.xml')\n",
    "\n",
    "classifier =load_model(r'D:cnn_model200_32.h5')\n",
    "\n",
    "emotion_labels = ['Angry','Disgust','Fear','Happy','Neutral', 'Sad', 'Surprise']\n",
    "Current_emotion = []\n",
    "\n",
    "# ch = th.Thread(target=choices,args=(Current_emotion))\n",
    "time_thread = th.Thread(target=timer,daemon=True)\n",
    "global ti\n",
    "ti = time_thread.start()\n",
    "print(ti)\n",
    "cap = cv2.VideoCapture(0)\n",
    "\n",
    "last5frames = []\n",
    "count = []\n",
    "while True:\n",
    "    _, frame = cap.read()\n",
    "    labels = []\n",
    "\n",
    "    gray = cv2.cvtColor(frame, cv2.COLOR_BGR2GRAY )\n",
    "\n",
    "    \n",
    "    faces = face_classifier.detectMultiScale(gray)\n",
    "\n",
    "    for (x,y,w,h) in faces:\n",
    "        cv2.rectangle(frame,(x,y),(x+w,y+h),(0,255,255),2)\n",
    "        roi_gray = gray[y:y+h,x:x+w]\n",
    "        roi_gray = cv2.resize(roi_gray,(48,48),interpolation=cv2.INTER_AREA)\n",
    "\n",
    "        if np.sum([roi_gray])!=0:\n",
    "            roi = roi_gray.astype('float')/255.0\n",
    "            roi = img_to_array(roi)\n",
    "            roi = np.expand_dims(roi,axis=0)\n",
    "\n",
    "            prediction = classifier.predict(roi)[0]\n",
    "            label=emotion_labels[prediction.argmax()]\n",
    "            \n",
    "            if len(last5frames) < 5:\n",
    "                last5frames.append(label) # New\n",
    "            elif len(last5frames) == 5:\n",
    "                count = last5frames\n",
    "                last5frames.pop(0)\n",
    "            else:\n",
    "                last5frames.pop(0)# New\n",
    "            \n",
    "            Current_emotion = most_frequent(last5frames)\n",
    "\n",
    "#             curr_time = t.start()\n",
    "            if t == 0:\n",
    "                choices(Current_emotion)\n",
    "                t = 5\n",
    "#                 c.terminate()\n",
    "#                 c.start()\n",
    "#                 time_thread.terminate()\n",
    "#                 time_thread.start()\n",
    "#             choices(Current_emotion)\n",
    "            \n",
    "            \n",
    "            percent = int(prediction[prediction.argmax()]*100) # New\n",
    "            percent = str(percent) + '%'\n",
    "            label_position = (x,y-10)\n",
    "            percent_position = (x+w,y-10) # New\n",
    "            cv2.putText(frame,label,label_position,cv2.FONT_HERSHEY_SIMPLEX,1,(0,255,0),2) \n",
    "            cv2.putText(frame,str(percent),percent_position,cv2.FONT_HERSHEY_SIMPLEX,1,(0,255,0),2) # New\n",
    "        else:\n",
    "            cv2.putText(frame,'No Faces',(30,80),cv2.FONT_HERSHEY_SIMPLEX,1,(0,255,0),2)\n",
    "    cv2.imshow('Emotion Detector',frame)\n",
    "    if cv2.waitKey(1) & 0xFF == ord('q'):\n",
    "        break\n",
    "\n",
    "cap.release()\n",
    "cv2.destroyAllWindows()"
   ]
  },
  {
   "cell_type": "code",
   "execution_count": 9,
   "metadata": {
    "scrolled": true
   },
   "outputs": [
    {
     "name": "stdout",
     "output_type": "stream",
     "text": [
      "1.5635719522833824\n",
      "0.011505097791086882\n",
      "3.3195238560438156\n",
      "55.347561836242676\n",
      "32.4885755777359\n",
      "7.080116868019104\n",
      "0.1891413819976151\n"
     ]
    }
   ],
   "source": [
    "for pred in prediction:\n",
    "    print(pred*100)"
   ]
  },
  {
   "cell_type": "code",
   "execution_count": 20,
   "metadata": {},
   "outputs": [],
   "source": [
    "label??"
   ]
  },
  {
   "cell_type": "code",
   "execution_count": 11,
   "metadata": {},
   "outputs": [
    {
     "data": {
      "text/plain": [
       "3"
      ]
     },
     "execution_count": 11,
     "metadata": {},
     "output_type": "execute_result"
    }
   ],
   "source": [
    "prediction.argmax()"
   ]
  },
  {
   "cell_type": "code",
   "execution_count": 13,
   "metadata": {},
   "outputs": [
    {
     "data": {
      "text/plain": [
       "55.347561836242676"
      ]
     },
     "execution_count": 13,
     "metadata": {},
     "output_type": "execute_result"
    }
   ],
   "source": [
    "prediction[prediction.argmax()]*100"
   ]
  },
  {
   "cell_type": "code",
   "execution_count": 12,
   "metadata": {},
   "outputs": [],
   "source": [
    "test = prediction[prediction.argmax()]*100"
   ]
  },
  {
   "cell_type": "code",
   "execution_count": 13,
   "metadata": {},
   "outputs": [
    {
     "data": {
      "text/plain": [
       "66"
      ]
     },
     "execution_count": 13,
     "metadata": {},
     "output_type": "execute_result"
    }
   ],
   "source": [
    "int(test)"
   ]
  },
  {
   "cell_type": "code",
   "execution_count": null,
   "metadata": {},
   "outputs": [],
   "source": [
    "def most_frequent(List):\n",
    "    counter = 0\n",
    "    emotion = List[0]\n",
    "     \n",
    "    for em in List:\n",
    "        curr_frequency = List.count(em)\n",
    "        if (curr_frequency/5) > 0.5:\n",
    "            emotion = em\n",
    "            break\n",
    "#         if(curr_frequency> counter):\n",
    "#             counter = curr_frequency\n",
    "#             emotion = em\n",
    " \n",
    "    return emotion"
   ]
  },
  {
   "cell_type": "code",
   "execution_count": null,
   "metadata": {},
   "outputs": [],
   "source": [
    "def choices(emotion):\n",
    "    if emotion==\"Angry\":\n",
    "        print(\"Για χαλάρωσε λιγάκι\")\n",
    "    elif emotion==\"Disgust\":\n",
    "        print(\"Ελα βρε\")\n",
    "    elif emotion==\"Fear\":\n",
    "        print(\"Μη φοβάσαι\")\n",
    "    elif emotion==\"Happy\":\n",
    "        print(\"Τι ωραία μέρα\")\n",
    "    elif emotion==\"Neutral\":\n",
    "        print(\"Τι κάνεις\")\n",
    "    elif emotion==\"Sad\":\n",
    "        print(\"Θες να βάλουμε ένα τραγουδάκι\")\n",
    "    elif emotion==\"Surprise\":\n",
    "        print(\"Τι έγινε;\")"
   ]
  },
  {
   "cell_type": "code",
   "execution_count": 1,
   "metadata": {},
   "outputs": [],
   "source": [
    "def timer():\n",
    "    \n",
    "    t = 5\n",
    "    while t > 0:\n",
    "        t = t - 1\n",
    "        print(t)\n",
    "        time.sleep(1)\n",
    "        \n",
    "    print(\"NOW\")\n",
    "    return int(t)"
   ]
  },
  {
   "cell_type": "code",
   "execution_count": null,
   "metadata": {},
   "outputs": [],
   "source": []
  }
 ],
 "metadata": {
  "kernelspec": {
   "display_name": "Python 3",
   "language": "python",
   "name": "python3"
  },
  "language_info": {
   "codemirror_mode": {
    "name": "ipython",
    "version": 3
   },
   "file_extension": ".py",
   "mimetype": "text/x-python",
   "name": "python",
   "nbconvert_exporter": "python",
   "pygments_lexer": "ipython3",
   "version": "3.8.3"
  }
 },
 "nbformat": 4,
 "nbformat_minor": 4
}

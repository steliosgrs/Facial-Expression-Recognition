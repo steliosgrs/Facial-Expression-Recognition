{
 "cells": [
  {
   "cell_type": "code",
   "execution_count": 5,
   "metadata": {},
   "outputs": [],
   "source": [
    "import os\n",
    "# !pip install gdown\n",
    "import gdown\n",
    "from pathlib import Path\n",
    "import zipfile\n",
    "# !pip install deepface\n",
    "from deepface.commons import functions\n",
    "from tensorflow.keras.preprocessing.image import ImageDataGenerator\n",
    "from tensorflow.keras.optimizers import Adam\n",
    "import tensorflow as tf"
   ]
  },
  {
   "cell_type": "code",
   "execution_count": 6,
   "metadata": {},
   "outputs": [],
   "source": [
    "from tensorflow import keras\n",
    "from tensorflow.keras.models import Model, Sequential\n",
    "from tensorflow.keras.layers import Conv2D, MaxPooling2D, AveragePooling2D, Flatten, Dense, Dropout"
   ]
  },
  {
   "cell_type": "code",
   "execution_count": 27,
   "metadata": {},
   "outputs": [],
   "source": [
    "train_dir = \"D:EmotionRecognition/CNN/train\" #passing the path with training images\n",
    "test_dir = \"D:EmotionRecognition/CNN/test\"   #passing the path with testing images\n"
   ]
  },
  {
   "cell_type": "code",
   "execution_count": 30,
   "metadata": {},
   "outputs": [],
   "source": [
    "img_size = 48 #original size of the image"
   ]
  },
  {
   "cell_type": "code",
   "execution_count": 31,
   "metadata": {},
   "outputs": [],
   "source": [
    "train_datagen = ImageDataGenerator(#rotation_range = 180,\n",
    "                                         width_shift_range = 0.1,\n",
    "                                         height_shift_range = 0.1,\n",
    "                                         horizontal_flip = True,\n",
    "                                         rescale = 1./255,\n",
    "                                         #zoom_range = 0.2,\n",
    "                                         validation_split = 0.2\n",
    "                                        )\n",
    "validation_datagen = ImageDataGenerator(rescale = 1./255,\n",
    "                                         validation_split = 0.2)"
   ]
  },
  {
   "cell_type": "code",
   "execution_count": 32,
   "metadata": {},
   "outputs": [
    {
     "name": "stdout",
     "output_type": "stream",
     "text": [
      "Found 22968 images belonging to 7 classes.\n",
      "Found 1432 images belonging to 7 classes.\n"
     ]
    }
   ],
   "source": [
    "train_generator = train_datagen.flow_from_directory(directory = train_dir,\n",
    "                                                    target_size = (img_size,img_size),\n",
    "                                                    batch_size = 64,\n",
    "                                                    color_mode = \"grayscale\",\n",
    "                                                    class_mode = \"categorical\",\n",
    "                                                    subset = \"training\"\n",
    "                                                   )\n",
    "validation_generator = validation_datagen.flow_from_directory( directory = test_dir,\n",
    "                                                              target_size = (img_size,img_size),\n",
    "                                                              batch_size = 64,\n",
    "                                                              color_mode = \"grayscale\",\n",
    "                                                              class_mode = \"categorical\",\n",
    "                                                              subset = \"validation\"\n",
    "                                                             )"
   ]
  },
  {
   "cell_type": "markdown",
   "metadata": {},
   "source": [
    "## Train the model"
   ]
  },
  {
   "cell_type": "code",
   "execution_count": 45,
   "metadata": {},
   "outputs": [],
   "source": [
    "# def loadModel(url = 'https://github.com/serengil/deepface_models/releases/download/v1.0/facial_expression_model_weights.h5'):\n",
    "\n",
    "num_classes = 7\n",
    "\n",
    "model = tf.keras.models.Sequential()\n",
    "\n",
    "#1st convolution layer\n",
    "model.add(Conv2D(64, (5, 5), activation='relu', input_shape=(48,48,1)))\n",
    "model.add(MaxPooling2D(pool_size=(5,5), strides=(2, 2)))\n",
    "\n",
    "#2nd convolution layer\n",
    "model.add(Conv2D(64, (3, 3), activation='relu'))\n",
    "model.add(Conv2D(64, (3, 3), activation='relu'))\n",
    "model.add(AveragePooling2D(pool_size=(3,3), strides=(2, 2)))\n",
    "\n",
    "#3rd convolution layer\n",
    "model.add(Conv2D(128, (3, 3), activation='relu'))\n",
    "model.add(Conv2D(128, (3, 3), activation='relu'))\n",
    "model.add(AveragePooling2D(pool_size=(3,3), strides=(2, 2)))\n",
    "\n",
    "model.add(Flatten())\n",
    "\n",
    "#fully connected neural networks\n",
    "model.add(Dense(1024, activation='relu'))\n",
    "model.add(Dropout(0.2))\n",
    "model.add(Dense(1024, activation='relu'))\n",
    "model.add(Dropout(0.2))\n",
    "\n",
    "model.add(Dense(num_classes, activation='softmax'))\n",
    "model.compile(\n",
    "    optimizer = Adam(learning_rate=0.0001), \n",
    "    loss='categorical_crossentropy', \n",
    "    metrics=['accuracy']\n",
    "  )\n",
    "home = functions.get_deepface_home()\n",
    "\n",
    "if os.path.isfile(home+'/.deepface/weights/facial_expression_model_weights.h5') != True:\n",
    "    print(\"facial_expression_model_weights.h5 will be downloaded...\")\n",
    "\n",
    "    output = home+'/.deepface/weights/facial_expression_model_weights.h5'\n",
    "    gdown.download(url, output, quiet=False)\n",
    "\n",
    "    \"\"\"\n",
    "    #google drive source downloads zip\n",
    "    output = home+'/.deepface/weights/facial_expression_model_weights.zip'\n",
    "    gdown.download(url, output, quiet=False)\n",
    "    #unzip facial_expression_model_weights.zip\n",
    "    with zipfile.ZipFile(output, 'r') as zip_ref:\n",
    "        zip_ref.extractall(home+'/.deepface/weights/')\n",
    "    \"\"\"\n",
    "\n",
    "model.load_weights(home+'/.deepface/weights/facial_expression_model_weights.h5')\n",
    "\n",
    "#     return model"
   ]
  },
  {
   "cell_type": "code",
   "execution_count": 46,
   "metadata": {},
   "outputs": [],
   "source": [
    "epochs = 30\n",
    "batch_size = 64"
   ]
  },
  {
   "cell_type": "code",
   "execution_count": 47,
   "metadata": {},
   "outputs": [
    {
     "name": "stdout",
     "output_type": "stream",
     "text": [
      "Model: \"sequential_5\"\n",
      "_________________________________________________________________\n",
      " Layer (type)                Output Shape              Param #   \n",
      "=================================================================\n",
      " conv2d_25 (Conv2D)          (None, 44, 44, 64)        1664      \n",
      "                                                                 \n",
      " max_pooling2d_5 (MaxPooling  (None, 20, 20, 64)       0         \n",
      " 2D)                                                             \n",
      "                                                                 \n",
      " conv2d_26 (Conv2D)          (None, 18, 18, 64)        36928     \n",
      "                                                                 \n",
      " conv2d_27 (Conv2D)          (None, 16, 16, 64)        36928     \n",
      "                                                                 \n",
      " average_pooling2d_10 (Avera  (None, 7, 7, 64)         0         \n",
      " gePooling2D)                                                    \n",
      "                                                                 \n",
      " conv2d_28 (Conv2D)          (None, 5, 5, 128)         73856     \n",
      "                                                                 \n",
      " conv2d_29 (Conv2D)          (None, 3, 3, 128)         147584    \n",
      "                                                                 \n",
      " average_pooling2d_11 (Avera  (None, 1, 1, 128)        0         \n",
      " gePooling2D)                                                    \n",
      "                                                                 \n",
      " flatten_5 (Flatten)         (None, 128)               0         \n",
      "                                                                 \n",
      " dense_15 (Dense)            (None, 1024)              132096    \n",
      "                                                                 \n",
      " dropout_10 (Dropout)        (None, 1024)              0         \n",
      "                                                                 \n",
      " dense_16 (Dense)            (None, 1024)              1049600   \n",
      "                                                                 \n",
      " dropout_11 (Dropout)        (None, 1024)              0         \n",
      "                                                                 \n",
      " dense_17 (Dense)            (None, 7)                 7175      \n",
      "                                                                 \n",
      "=================================================================\n",
      "Total params: 1,485,831\n",
      "Trainable params: 1,485,831\n",
      "Non-trainable params: 0\n",
      "_________________________________________________________________\n"
     ]
    }
   ],
   "source": [
    "model.summary()"
   ]
  },
  {
   "cell_type": "code",
   "execution_count": 48,
   "metadata": {},
   "outputs": [
    {
     "name": "stdout",
     "output_type": "stream",
     "text": [
      "Epoch 1/30\n",
      "359/359 [==============================] - 408s 1s/step - loss: 2.2361 - accuracy: 0.3862 - val_loss: 1.4097 - val_accuracy: 0.4846\n",
      "Epoch 2/30\n",
      "359/359 [==============================] - 76s 211ms/step - loss: 1.4562 - accuracy: 0.4608 - val_loss: 1.2613 - val_accuracy: 0.5300\n",
      "Epoch 3/30\n",
      "359/359 [==============================] - 72s 202ms/step - loss: 1.3336 - accuracy: 0.5032 - val_loss: 1.1979 - val_accuracy: 0.5489\n",
      "Epoch 4/30\n",
      "359/359 [==============================] - 76s 211ms/step - loss: 1.2689 - accuracy: 0.5317 - val_loss: 1.1801 - val_accuracy: 0.5635\n",
      "Epoch 5/30\n",
      "359/359 [==============================] - 79s 220ms/step - loss: 1.2359 - accuracy: 0.5386 - val_loss: 1.1414 - val_accuracy: 0.5810\n",
      "Epoch 6/30\n",
      "359/359 [==============================] - 84s 233ms/step - loss: 1.2074 - accuracy: 0.5448 - val_loss: 1.1245 - val_accuracy: 0.5859\n",
      "Epoch 7/30\n",
      "359/359 [==============================] - 79s 221ms/step - loss: 1.1828 - accuracy: 0.5580 - val_loss: 1.1120 - val_accuracy: 0.5887\n",
      "Epoch 8/30\n",
      "359/359 [==============================] - 73s 205ms/step - loss: 1.1560 - accuracy: 0.5715 - val_loss: 1.1051 - val_accuracy: 0.5936\n",
      "Epoch 9/30\n",
      "359/359 [==============================] - 73s 204ms/step - loss: 1.1469 - accuracy: 0.5736 - val_loss: 1.1111 - val_accuracy: 0.5950\n",
      "Epoch 10/30\n",
      "359/359 [==============================] - 73s 203ms/step - loss: 1.1357 - accuracy: 0.5772 - val_loss: 1.1036 - val_accuracy: 0.5936\n",
      "Epoch 11/30\n",
      "359/359 [==============================] - 72s 201ms/step - loss: 1.1219 - accuracy: 0.5807 - val_loss: 1.1077 - val_accuracy: 0.5950\n",
      "Epoch 12/30\n",
      "359/359 [==============================] - 71s 198ms/step - loss: 1.1129 - accuracy: 0.5846 - val_loss: 1.1008 - val_accuracy: 0.5950\n",
      "Epoch 13/30\n",
      "359/359 [==============================] - 71s 197ms/step - loss: 1.1059 - accuracy: 0.5823 - val_loss: 1.0878 - val_accuracy: 0.6089\n",
      "Epoch 14/30\n",
      "359/359 [==============================] - 72s 201ms/step - loss: 1.0976 - accuracy: 0.5858 - val_loss: 1.0936 - val_accuracy: 0.5950\n",
      "Epoch 15/30\n",
      "359/359 [==============================] - 73s 203ms/step - loss: 1.0940 - accuracy: 0.5923 - val_loss: 1.0840 - val_accuracy: 0.5964\n",
      "Epoch 16/30\n",
      "359/359 [==============================] - 70s 196ms/step - loss: 1.0762 - accuracy: 0.5969 - val_loss: 1.0908 - val_accuracy: 0.5936\n",
      "Epoch 17/30\n",
      "359/359 [==============================] - 71s 198ms/step - loss: 1.0864 - accuracy: 0.5924 - val_loss: 1.0874 - val_accuracy: 0.5971\n",
      "Epoch 18/30\n",
      "359/359 [==============================] - 72s 200ms/step - loss: 1.0693 - accuracy: 0.6020 - val_loss: 1.1063 - val_accuracy: 0.5985\n",
      "Epoch 19/30\n",
      "359/359 [==============================] - 73s 204ms/step - loss: 1.0578 - accuracy: 0.6045 - val_loss: 1.0872 - val_accuracy: 0.5978\n",
      "Epoch 20/30\n",
      "359/359 [==============================] - 77s 213ms/step - loss: 1.0473 - accuracy: 0.6065 - val_loss: 1.0855 - val_accuracy: 0.6034\n",
      "Epoch 21/30\n",
      "359/359 [==============================] - 80s 224ms/step - loss: 1.0542 - accuracy: 0.6074 - val_loss: 1.0814 - val_accuracy: 0.6075\n",
      "Epoch 22/30\n",
      "359/359 [==============================] - 76s 212ms/step - loss: 1.0406 - accuracy: 0.6103 - val_loss: 1.0967 - val_accuracy: 0.5992\n",
      "Epoch 23/30\n",
      "359/359 [==============================] - 77s 216ms/step - loss: 1.0456 - accuracy: 0.6069 - val_loss: 1.0888 - val_accuracy: 0.5957\n",
      "Epoch 24/30\n",
      "359/359 [==============================] - 75s 209ms/step - loss: 1.0353 - accuracy: 0.6101 - val_loss: 1.0835 - val_accuracy: 0.5992\n",
      "Epoch 25/30\n",
      "359/359 [==============================] - 71s 198ms/step - loss: 1.0299 - accuracy: 0.6150 - val_loss: 1.0929 - val_accuracy: 0.6027\n",
      "Epoch 26/30\n",
      "359/359 [==============================] - 75s 209ms/step - loss: 1.0218 - accuracy: 0.6185 - val_loss: 1.0922 - val_accuracy: 0.6027\n",
      "Epoch 27/30\n",
      "359/359 [==============================] - 80s 221ms/step - loss: 1.0212 - accuracy: 0.6157 - val_loss: 1.0896 - val_accuracy: 0.6006\n",
      "Epoch 28/30\n",
      "359/359 [==============================] - 75s 208ms/step - loss: 1.0206 - accuracy: 0.6163 - val_loss: 1.0977 - val_accuracy: 0.6047\n",
      "Epoch 29/30\n",
      "359/359 [==============================] - 74s 207ms/step - loss: 1.0258 - accuracy: 0.6142 - val_loss: 1.0868 - val_accuracy: 0.6096\n",
      "Epoch 30/30\n",
      "359/359 [==============================] - 75s 208ms/step - loss: 1.0119 - accuracy: 0.6189 - val_loss: 1.0902 - val_accuracy: 0.5964\n"
     ]
    }
   ],
   "source": [
    "history = model.fit(x = train_generator,epochs = epochs,validation_data = validation_generator)"
   ]
  },
  {
   "cell_type": "code",
   "execution_count": 4,
   "metadata": {},
   "outputs": [],
   "source": [
    "import matplotlib.pyplot as plt"
   ]
  },
  {
   "cell_type": "code",
   "execution_count": 51,
   "metadata": {},
   "outputs": [
    {
     "data": {
      "image/png": "[encoded data removed]",
      "text/plain": [
       "<Figure size 864x288 with 2 Axes>"
      ]
     },
     "metadata": {
      "needs_background": "light"
     },
     "output_type": "display_data"
    }
   ],
   "source": [
    "fig , ax = plt.subplots(1,2)\n",
    "train_acc = history.history['accuracy']\n",
    "train_loss = history.history['loss']\n",
    "fig.set_size_inches(12,4)\n",
    "\n",
    "ax[0].plot(history.history['accuracy'])\n",
    "ax[0].plot(history.history['val_accuracy'])\n",
    "ax[0].set_title('Training Accuracy vs Validation Accuracy')\n",
    "ax[0].set_ylabel('Accuracy')\n",
    "ax[0].set_xlabel('Epoch')\n",
    "ax[0].legend(['Train', 'Validation'], loc='upper left')\n",
    "\n",
    "ax[1].plot(history.history['loss'])\n",
    "ax[1].plot(history.history['val_loss'])\n",
    "ax[1].set_title('Training Loss vs Validation Loss')\n",
    "ax[1].set_ylabel('Loss')\n",
    "ax[1].set_xlabel('Epoch')\n",
    "ax[1].legend(['Train', 'Validation'], loc='upper left')\n",
    "\n",
    "plt.show()"
   ]
  },
  {
   "cell_type": "code",
   "execution_count": 52,
   "metadata": {},
   "outputs": [],
   "source": [
    "model.save('model_deep_face.h5')\n",
    "model.save_weights('deep_face_weights.h5')"
   ]
  },
  {
   "cell_type": "markdown",
   "metadata": {},
   "source": [
    "## Not work for testing see load models"
   ]
  },
  {
   "cell_type": "code",
   "execution_count": 7,
   "metadata": {},
   "outputs": [],
   "source": [
    "from keras.preprocessing import image\n",
    "import numpy as np\n",
    "import cv2"
   ]
  },
  {
   "cell_type": "code",
   "execution_count": 10,
   "metadata": {},
   "outputs": [
    {
     "ename": "NameError",
     "evalue": "name 'tf' is not defined",
     "output_type": "error",
     "traceback": [
      "\u001b[1;31m---------------------------------------------------------------------------\u001b[0m",
      "\u001b[1;31mNameError\u001b[0m                                 Traceback (most recent call last)",
      "\u001b[1;32m<ipython-input-10-f1ac6e1a0c7d>\u001b[0m in \u001b[0;36m<module>\u001b[1;34m\u001b[0m\n\u001b[1;32m----> 1\u001b[1;33m \u001b[0mmodel\u001b[0m \u001b[1;33m=\u001b[0m \u001b[0mtf\u001b[0m\u001b[1;33m.\u001b[0m\u001b[0mkeras\u001b[0m\u001b[1;33m.\u001b[0m\u001b[0mmodels\u001b[0m\u001b[1;33m.\u001b[0m\u001b[0mload_model\u001b[0m\u001b[1;33m(\u001b[0m\u001b[1;34m'model_deep_face.h5'\u001b[0m\u001b[1;33m)\u001b[0m\u001b[1;33m\u001b[0m\u001b[1;33m\u001b[0m\u001b[0m\n\u001b[0m\u001b[0;32m      2\u001b[0m \u001b[0mmodel\u001b[0m\u001b[1;33m.\u001b[0m\u001b[0mload_weights\u001b[0m\u001b[1;33m(\u001b[0m\u001b[1;34m'deep_face_weights.h5'\u001b[0m\u001b[1;33m)\u001b[0m\u001b[1;33m\u001b[0m\u001b[1;33m\u001b[0m\u001b[0m\n",
      "\u001b[1;31mNameError\u001b[0m: name 'tf' is not defined"
     ]
    }
   ],
   "source": [
    "model = tf.keras.models.load_model('model_deep_face.h5')\n",
    "model.load_weights('deep_face_weights.h5')"
   ]
  },
  {
   "cell_type": "code",
   "execution_count": 9,
   "metadata": {},
   "outputs": [],
   "source": [
    "def emotion_analysis(emotions):\n",
    "    objects = ('angry', 'disgust', 'fear', 'happy', 'sad', 'surprise', 'neutral')\n",
    "    y_pos = np.arange(len(objects))\n",
    "    \n",
    "    plt.bar(y_pos, emotions, align='center', alpha=0.5)\n",
    "    plt.xticks(y_pos, objects)\n",
    "    plt.ylabel('percentage')\n",
    "    plt.title('emotion')\n",
    "    \n",
    "    plt.show()\n",
    "\n"
   ]
  },
  {
   "cell_type": "code",
   "execution_count": 1,
   "metadata": {},
   "outputs": [
    {
     "ename": "NameError",
     "evalue": "name 'image' is not defined",
     "output_type": "error",
     "traceback": [
      "\u001b[1;31m---------------------------------------------------------------------------\u001b[0m",
      "\u001b[1;31mNameError\u001b[0m                                 Traceback (most recent call last)",
      "\u001b[1;32m<ipython-input-1-7e4061420b12>\u001b[0m in \u001b[0;36m<module>\u001b[1;34m\u001b[0m\n\u001b[0;32m      1\u001b[0m \u001b[0mpath\u001b[0m \u001b[1;33m=\u001b[0m \u001b[1;34m\"D:EmotionRecognition/CNN/test/fear/PrivateTest_2918667.jpg\"\u001b[0m\u001b[1;33m\u001b[0m\u001b[1;33m\u001b[0m\u001b[0m\n\u001b[0;32m      2\u001b[0m \u001b[0mpath\u001b[0m \u001b[1;33m=\u001b[0m \u001b[1;34m\"D:images/photo.png\"\u001b[0m\u001b[1;33m\u001b[0m\u001b[1;33m\u001b[0m\u001b[0m\n\u001b[1;32m----> 3\u001b[1;33m \u001b[0mtrue_img\u001b[0m \u001b[1;33m=\u001b[0m \u001b[0mimage\u001b[0m\u001b[1;33m.\u001b[0m\u001b[0mload_img\u001b[0m\u001b[1;33m(\u001b[0m\u001b[0mpath\u001b[0m\u001b[1;33m)\u001b[0m\u001b[1;33m\u001b[0m\u001b[1;33m\u001b[0m\u001b[0m\n\u001b[0m\u001b[0;32m      4\u001b[0m \u001b[0mimg\u001b[0m \u001b[1;33m=\u001b[0m \u001b[0mimage\u001b[0m\u001b[1;33m.\u001b[0m\u001b[0mload_img\u001b[0m\u001b[1;33m(\u001b[0m\u001b[0mpath\u001b[0m\u001b[1;33m,\u001b[0m \u001b[0mgrayscale\u001b[0m \u001b[1;33m=\u001b[0m \u001b[1;32mTrue\u001b[0m\u001b[1;33m,\u001b[0m \u001b[0mtarget_size\u001b[0m\u001b[1;33m=\u001b[0m\u001b[1;33m(\u001b[0m\u001b[1;36m48\u001b[0m\u001b[1;33m,\u001b[0m \u001b[1;36m48\u001b[0m\u001b[1;33m)\u001b[0m\u001b[1;33m)\u001b[0m\u001b[1;33m\u001b[0m\u001b[1;33m\u001b[0m\u001b[0m\n\u001b[0;32m      5\u001b[0m \u001b[1;33m\u001b[0m\u001b[0m\n",
      "\u001b[1;31mNameError\u001b[0m: name 'image' is not defined"
     ]
    }
   ],
   "source": [
    "# path = \"D:EmotionRecognition/CNN/test/fear/PrivateTest_2918667.jpg\"\n",
    "path = \"D:images/photo.png\"\n",
    "true_img = image.load_img(path)\n",
    "img = image.load_img(path, grayscale = True, target_size=(48, 48))\n",
    "\n",
    "x = image.img_to_array(img)\n",
    "x = np.expand_dims(x, axis = 0)\n",
    "x /= 255\n",
    "custom =model.predict(x)\n",
    "emotion_analysis(custom[0])\n",
    "\n",
    "x = np.array(x, 'float32')\n",
    "x = x.reshape([48, 48]);\n",
    "\n",
    "\n",
    "plt.imshow(true_img)\n",
    "plt.show()\n"
   ]
  },
  {
   "cell_type": "code",
   "execution_count": 89,
   "metadata": {},
   "outputs": [
    {
     "name": "stdout",
     "output_type": "stream",
     "text": [
      "(48, 48, 3)\n"
     ]
    },
    {
     "data": {
      "image/png": "[encoded data removed]",
      "text/plain": [
       "<Figure size 432x288 with 1 Axes>"
      ]
     },
     "metadata": {
      "needs_background": "light"
     },
     "output_type": "display_data"
    }
   ],
   "source": [
    "path\n",
    "img = image.load_img(\"D:EmotionRecognition/CNN/train/disgust/Training_1654496.jpg\",target_size = (48,48),color_mode = \"grayscale\")\n",
    "# img = cv2.IMREAD_GRAYSCALE()\n",
    "img = cv2.imread(\"D:EmotionRecognition/CNN/train/disgust/Training_1654496.jpg\")\n",
    "img = np.array(img)\n",
    "# img = np.array(img.astype(np.uint8))\n",
    "plt.imshow(img)\n",
    "print(img.shape) #prints (48,48) that is the shape of our image"
   ]
  },
  {
   "cell_type": "code",
   "execution_count": 105,
   "metadata": {},
   "outputs": [
    {
     "name": "stdout",
     "output_type": "stream",
     "text": [
      "Happy\n"
     ]
    },
    {
     "data": {
      "image/png": "[encoded data removed]",
      "text/plain": [
       "<Figure size 432x288 with 1 Axes>"
      ]
     },
     "metadata": {
      "needs_background": "light"
     },
     "output_type": "display_data"
    }
   ],
   "source": [
    "\n",
    "\n",
    "test_img = image.load_img(\"D:EmotionRecognition/CNN/test/neutral/PrivateTest_1129340.jpg\",target_size = (224,224),color_mode = \"grayscale\")\n",
    "plt.imshow(test_img)\n",
    "\n",
    "\n",
    "test_img = np.expand_dims(test_img,axis = 0)\n",
    "test_img = test_img.reshape(1,224,224,1)\n",
    "result = model.predict(test_img)\n",
    "result = list(result[0])\n",
    "\n",
    "img_index = result.index(max(result))\n",
    "print(label_dict[img_index])"
   ]
  },
  {
   "cell_type": "code",
   "execution_count": 103,
   "metadata": {},
   "outputs": [],
   "source": [
    "label_dict = {0:'Angry',1:'Disgust',2:'Fear',3:'Happy',4:'Neutral',5:'Sad',6:'Surprise'}"
   ]
  },
  {
   "cell_type": "code",
   "execution_count": 108,
   "metadata": {},
   "outputs": [
    {
     "name": "stdout",
     "output_type": "stream",
     "text": [
      "[0.0, 0.0, 0.0, 1.0, 0.0, 0.0, 0.0]\n"
     ]
    }
   ],
   "source": [
    "img = np.expand_dims(img,axis = 0) #makes image shape (1,48,48)\n",
    "img = img.reshape(-1,48,48,1)\n",
    "result = model.predict(img)\n",
    "result = list(result[0])\n",
    "print(result)"
   ]
  },
  {
   "cell_type": "code",
   "execution_count": 92,
   "metadata": {},
   "outputs": [
    {
     "name": "stdout",
     "output_type": "stream",
     "text": [
      "Happy\n"
     ]
    }
   ],
   "source": [
    "img_index = result.index(max(result))\n",
    "print(label_dict[img_index])\n",
    "plt.show()"
   ]
  },
  {
   "cell_type": "markdown",
   "metadata": {},
   "source": [
    "## Test Accuracy"
   ]
  },
  {
   "cell_type": "code",
   "execution_count": 109,
   "metadata": {},
   "outputs": [
    {
     "name": "stdout",
     "output_type": "stream",
     "text": [
      "359/359 [==============================] - 22s 63ms/step - loss: 0.9802 - accuracy: 0.63430s - loss: 0.9806 - accuracy: \n",
      "23/23 [==============================] - 1s 37ms/step - loss: 1.0902 - accuracy: 0.5964\n",
      "final train accuracy = 63.43 , validation accuracy = 59.64\n"
     ]
    }
   ],
   "source": [
    "train_loss, train_acc = model.evaluate(train_generator)\n",
    "test_loss, test_acc   = model.evaluate(validation_generator)\n",
    "print(\"final train accuracy = {:.2f} , validation accuracy = {:.2f}\".format(train_acc*100, test_acc*100))"
   ]
  },
  {
   "cell_type": "code",
   "execution_count": null,
   "metadata": {},
   "outputs": [],
   "source": []
  }
 ],
 "metadata": {
  "kernelspec": {
   "display_name": "Python 3",
   "language": "python",
   "name": "python3"
  },
  "language_info": {
   "codemirror_mode": {
    "name": "ipython",
    "version": 3
   },
   "file_extension": ".py",
   "mimetype": "text/x-python",
   "name": "python",
   "nbconvert_exporter": "python",
   "pygments_lexer": "ipython3",
   "version": "3.8.3"
  }
 },
 "nbformat": 4,
 "nbformat_minor": 4
}
